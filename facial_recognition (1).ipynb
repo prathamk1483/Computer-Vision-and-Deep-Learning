{
  "nbformat": 4,
  "nbformat_minor": 0,
  "metadata": {
    "colab": {
      "provenance": []
    },
    "kernelspec": {
      "name": "python3",
      "display_name": "Python 3"
    },
    "language_info": {
      "name": "python"
    }
  },
  "cells": [
    {
      "cell_type": "code",
      "execution_count": null,
      "metadata": {
        "id": "VDb9cFB2sfXQ"
      },
      "outputs": [],
      "source": [
        "from matplotlib import pyplot as plt\n",
        "import numpy as np\n",
        "import pandas as pd\n",
        "import cv2\n",
        "from PIL import Image\n",
        "from matplotlib.patches import Rectangle\n",
        "import os\n",
        "from cv2 import face\n",
        "from google.colab.patches import cv2_imshow"
      ]
    },
    {
      "cell_type": "code",
      "source": [
        "data = \"drive/MyDrive/yale\""
      ],
      "metadata": {
        "id": "0Zpqs8trtBdB"
      },
      "execution_count": null,
      "outputs": []
    },
    {
      "cell_type": "code",
      "source": [
        "files = os.listdir(data)\n",
        "files.pop(0)\n",
        "files.pop(-1)"
      ],
      "metadata": {
        "colab": {
          "base_uri": "https://localhost:8080/",
          "height": 35
        },
        "id": "mVkV-Khlsiw6",
        "outputId": "1c46228b-1c70-4af9-dbeb-e67a205f6a4d"
      },
      "execution_count": null,
      "outputs": [
        {
          "output_type": "execute_result",
          "data": {
            "text/plain": [
              "'data'"
            ],
            "application/vnd.google.colaboratory.intrinsic+json": {
              "type": "string"
            }
          },
          "metadata": {},
          "execution_count": 24
        }
      ]
    },
    {
      "cell_type": "code",
      "source": [
        "def plotimg(source):\n",
        "  pixels = plt.imread(source)\n",
        "  rgb_pixels = np.stack((pixels, pixels, pixels), axis=2)\n",
        "  print(rgb_pixels.shape)\n",
        "  plt.imshow(pixels)\n",
        "  plt.show()"
      ],
      "metadata": {
        "id": "ggGX1KW4slIy"
      },
      "execution_count": null,
      "outputs": []
    },
    {
      "cell_type": "code",
      "source": [
        "for i in files[0:4]:\n",
        "  source = f\"{data}/{i}\"\n",
        "  plotimg(source)"
      ],
      "metadata": {
        "id": "-TdvlvKSso8Q"
      },
      "execution_count": null,
      "outputs": []
    },
    {
      "cell_type": "code",
      "source": [
        "def get_image_data():\n",
        "    faces = []\n",
        "    ids = []\n",
        "    for path in files:\n",
        "      image = Image.open(f\"{data}/{path}\").convert('L')\n",
        "      image_np = np.array(image, 'uint8')\n",
        "      id = int(os.path.split(path)[1].split(\".\")[0].replace(\"subject\", \" \"))\n",
        "      ids.append(id)\n",
        "      faces.append(image_np)\n",
        "    return np.array(ids), faces\n",
        "\n",
        "ids, faces = get_image_data()"
      ],
      "metadata": {
        "id": "P2xwkTpFsrXA"
      },
      "execution_count": null,
      "outputs": []
    },
    {
      "cell_type": "code",
      "source": [
        "lbphc = cv2.face.LBPHFaceRecognizer_create()\n",
        "lbphc.train(faces,ids)\n",
        "\n",
        "lbphc.write('lbphc.yml')"
      ],
      "metadata": {
        "id": "VoGsCC4ssteg"
      },
      "execution_count": null,
      "outputs": []
    },
    {
      "cell_type": "code",
      "source": [
        "lbph_face_classifier = cv2.face.LBPHFaceRecognizer_create()\n",
        "lbph_face_classifier.read(\"/content/lbphc.yml\")\n",
        "correct_predictions = 0\n",
        "total_test_images = 0\n",
        "\n",
        "# check the performance of model\n",
        "for i in files:\n",
        "  test_image = f\"{data}/{i}\"\n",
        "  image = Image.open(test_image).convert('L')\n",
        "  image_np = np.array(image,'uint8')\n",
        "\n",
        "  #Before giving the image to the model lets check it first\n",
        "  # cv2_imshow(image_np)\n",
        "  predictions = lbph_face_classifier.predict(image_np)\n",
        "  cv2.putText(image_np, 'Pred.' +str(predictions[0]),(10,30),cv2.FONT_HERSHEY_COMPLEX_SMALL,1,(0,255,0))\n",
        "\n",
        "  expected_output = int(os.path.split(test_image)[1].split('.')[0].replace(\"subject\",\" \"))\n",
        "  cv2.putText(image_np, 'Expec.' +str(expected_output),(10,50),cv2.FONT_HERSHEY_COMPLEX_SMALL,1,(0,255,0))\n",
        "  cv2_imshow(image_np)\n",
        "  if predictions[0] == expected_output:\n",
        "    correct_predictions += 1\n",
        "\n",
        "\n",
        "  total_test_images += 1"
      ],
      "metadata": {
        "id": "Uc4rr8PSsvdA"
      },
      "execution_count": null,
      "outputs": []
    },
    {
      "cell_type": "code",
      "source": [
        "accuracy = (correct_predictions / total_test_images) * 100\n",
        "print(f\"Accuracy: \",accuracy)"
      ],
      "metadata": {
        "colab": {
          "base_uri": "https://localhost:8080/"
        },
        "id": "3smoq1OzsyFI",
        "outputId": "b45889e8-8887-4930-84e4-0e174b7abdd5"
      },
      "execution_count": null,
      "outputs": [
        {
          "output_type": "stream",
          "name": "stdout",
          "text": [
            "Accuracy:  100.0\n"
          ]
        }
      ]
    },
    {
      "cell_type": "code",
      "source": [],
      "metadata": {
        "id": "GN6GKqsuvhIZ"
      },
      "execution_count": null,
      "outputs": []
    }
  ]
}